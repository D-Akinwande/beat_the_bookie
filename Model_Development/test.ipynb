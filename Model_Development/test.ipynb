{
 "cells": [
  {
   "cell_type": "code",
   "execution_count": 1,
   "metadata": {},
   "outputs": [
    {
     "name": "stdout",
     "output_type": "stream",
     "text": [
      "cvt_dt input:\n",
      "             Date     HomeTeam       AwayTeam FTR\n",
      "0       19/08/00     Charlton       Man City   H\n",
      "1       19/08/00      Chelsea       West Ham   H\n",
      "2       19/08/00     Coventry  Middlesbrough   A\n",
      "3       19/08/00        Derby    Southampton   D\n",
      "4       19/08/00        Leeds        Everton   H\n",
      "...          ...          ...            ...  ..\n",
      "8836  29/10/2023     West Ham        Everton   A\n",
      "8837  29/10/2023  Aston Villa          Luton   H\n",
      "8838  29/10/2023     Brighton         Fulham   D\n",
      "8839  29/10/2023    Liverpool  Nott'm Forest   H\n",
      "8840  29/10/2023   Man United       Man City   A\n",
      "\n",
      "[8840 rows x 4 columns]\n",
      "['Date', 2]\n",
      "['HomeTeam', 1]\n",
      "['AwayTeam', 1]\n",
      "['FTR', 3]\n",
      "cvt_dt output:\n",
      "               Date             HomeTeam             AwayTeam  FTR\n",
      "0     9.666396e+08 -2070190402928830399 -4634469068236120362   -1\n",
      "1     9.666396e+08 -8031089135295095577  3576827630785910240   -1\n",
      "2     9.666396e+08 -5666252472157964925   605527898485747042    1\n",
      "3     9.666396e+08 -1803456388122292991  7920373924974469608    0\n",
      "4     9.666396e+08  3711219707982070679 -1970876404642972722   -1\n",
      "...            ...                  ...                  ...  ...\n",
      "8836  1.698534e+09  3576827630785910240 -1970876404642972722    1\n",
      "8837  1.698534e+09 -7305069211664240719 -3698372915397290328   -1\n",
      "8838  1.698534e+09  4265562313369465325  4088092606799872732    0\n",
      "8839  1.698534e+09   757563150822525057  5615394514218474400   -1\n",
      "8840  1.698534e+09  5276718626246525304 -4634469068236120362    1\n",
      "\n",
      "[8840 rows x 4 columns]\n",
      "out index: 3 tensor: torch.Size([8840, 4])\n",
      "inputs, outputs: torch.Size([8840, 3]) torch.Size([8840])\n"
     ]
    },
    {
     "name": "stderr",
     "output_type": "stream",
     "text": [
      "c:\\Users\\vladk\\Documents\\GitHub Projects\\beat_the_bookie\\Model_Development\\bookieNN\\loader.py:36: SettingWithCopyWarning: \n",
      "A value is trying to be set on a copy of a slice from a DataFrame.\n",
      "Try using .loc[row_indexer,col_indexer] = value instead\n",
      "\n",
      "See the caveats in the documentation: https://pandas.pydata.org/pandas-docs/stable/user_guide/indexing.html#returning-a-view-versus-a-copy\n",
      "  data.loc[:, feat[0]] = column.map(convert_formats[feat[1]])\n",
      "c:\\Users\\vladk\\Documents\\GitHub Projects\\beat_the_bookie\\Model_Development\\bookieNN\\loader.py:36: SettingWithCopyWarning: \n",
      "A value is trying to be set on a copy of a slice from a DataFrame.\n",
      "Try using .loc[row_indexer,col_indexer] = value instead\n",
      "\n",
      "See the caveats in the documentation: https://pandas.pydata.org/pandas-docs/stable/user_guide/indexing.html#returning-a-view-versus-a-copy\n",
      "  data.loc[:, feat[0]] = column.map(convert_formats[feat[1]])\n"
     ]
    }
   ],
   "source": [
    "import os\n",
    "\n",
    "import bookieNN\n",
    "\n",
    "features = [\n",
    "    [\"Date\", 2],\n",
    "    [\"HomeTeam\", 1],\n",
    "    [\"AwayTeam\", 1],\n",
    "    [\"FTR\", 3]\n",
    "]\n",
    "\n",
    "filepath = os.path.join(os.path.curdir, \"Data_Files 2023\", \"epl-training.csv\")\n",
    "\n",
    "inputs, outputs = bookieNN.loader.open_dataset(filepath, features, \"FTR\")"
   ]
  }
 ],
 "metadata": {
  "kernelspec": {
   "display_name": "Python 3",
   "language": "python",
   "name": "python3"
  },
  "language_info": {
   "codemirror_mode": {
    "name": "ipython",
    "version": 3
   },
   "file_extension": ".py",
   "mimetype": "text/x-python",
   "name": "python",
   "nbconvert_exporter": "python",
   "pygments_lexer": "ipython3",
   "version": "3.10.8"
  }
 },
 "nbformat": 4,
 "nbformat_minor": 2
}
